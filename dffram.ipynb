{
 "cells": [
  {
   "cell_type": "markdown",
   "metadata": {
    "id": "eukW5KG9kq7A"
   },
   "source": [
    "# DFFRAM Compiler\n",
    "\n",
    "Standard Cell Library based Memory Compiler using DFF/Latch cells.\n",
    "\n",
    "\n",
    "## Warning!\n",
    "\n",
    "This notebook should still work, but is out of date and does not reflect the\n",
    "latest DFFRAM release. Use at your own risk!"
   ]
  },
  {
   "cell_type": "markdown",
   "metadata": {
    "id": "hAbRRQMOYmTj"
   },
   "source": [
    "### Overview\n",
    "DFFRAM is based around two Python modules: the DFFRAM flow and the placeram utility.\n",
    "\n",
    "placeram is a custom placer using OpenROAD's Python interface. It places DFFRAM RAM/register file designs in a predetermined structure to avoid a lengthy and inefficient manual placement process for RAM. \n",
    "\n",
    "dffram.py is a relatively self-contained flow that uses placeram and OpenLane to place, route and harden RAM. "
   ]
  },
  {
   "cell_type": "markdown",
   "metadata": {
    "id": "p9rJi0GJevQL"
   },
   "source": [
    "### Supported Sizes \n",
    "\n",
    "> 1RW1R variants are temporarily disabled due to a bug.\n",
    "\n",
    "RAM: \n",
    "- 32 words with byte write enable (1RW and 1RW1R).\n",
    "- 128 words with byte write enable (1RW and 1RW1R).\n",
    "- 256 words with byte write enable (1RW and 1RW1R).\n",
    "- 512 words with byte write enable (1RW and 1RW1R).\n",
    "- 1024 words with byte write enable (1RW and 1RW1R).\n",
    "- 2048 words with byte write enable (1RW and 1RW1R).\n",
    "\n",
    "\n",
    "RF: \n",
    "\n",
    "- 32 x 32-bit words (2R1W)"
   ]
  },
  {
   "cell_type": "markdown",
   "metadata": {
    "id": "weyU60-UZRw1"
   },
   "source": [
    "\n",
    "\n",
    "---\n",
    "\n"
   ]
  },
  {
   "attachments": {},
   "cell_type": "markdown",
   "metadata": {
    "id": "xiMjKkZuZWGb"
   },
   "source": [
    "### Installing Dependencies"
   ]
  },
  {
   "cell_type": "code",
   "execution_count": null,
   "metadata": {
    "colab": {
     "base_uri": "https://localhost:8080/"
    },
    "id": "oafmcNo7jGRU",
    "outputId": "6bfe1fcd-6f47-4c5f-e048-4566faba703a"
   },
   "outputs": [],
   "source": [
    "openlane_version = ''\n",
    "open_pdks_version = '' \n",
    "\n",
    "import os\n",
    "import pathlib\n",
    "\n",
    "!curl -Ls https://micro.mamba.pm/api/micromamba/linux-64/latest | tar -xj bin/micromamba\n",
    "conda_prefix_path = pathlib.Path('conda-env')\n",
    "CONDA_PREFIX = str(conda_prefix_path.resolve())\n",
    "!bin/micromamba create --yes --prefix $CONDA_PREFIX\n",
    "!echo 'python ==3.7*' >> {CONDA_PREFIX}/conda-meta/pinned\n",
    "!CI=0 bin/micromamba install --yes --prefix $CONDA_PREFIX \\\n",
    "                     --channel litex-hub \\\n",
    "                     --channel main \\\n",
    "                     openlane={openlane_version} \\\n",
    "                     open_pdks.sky130a={open_pdks_version}\n",
    "!python -m pip install gdstk gdstk\n",
    "PATH = os.environ['PATH']\n",
    "%env CONDA_PREFIX={CONDA_PREFIX}\n",
    "%env PATH={CONDA_PREFIX}/bin:{PATH}"
   ]
  },
  {
   "attachments": {},
   "cell_type": "markdown",
   "metadata": {
    "id": "FuqN8wIVX3X5"
   },
   "source": [
    "### Cloning DFFRAM and Installing the required dependencies:  🔄\n",
    "\n",
    "(We're also setting some environment variables that make OpenLane and DFFRAM play nicer with conda.)"
   ]
  },
  {
   "cell_type": "code",
   "execution_count": null,
   "metadata": {
    "colab": {
     "base_uri": "https://localhost:8080/"
    },
    "id": "bVYWVZkTjKb_",
    "outputId": "09735eff-c07e-45fe-c221-93bb2e9fe35f"
   },
   "outputs": [],
   "source": [
    "!apt-get update && apt-get install -yq tcllib\n",
    "%env TCLLIBPATH=/usr/share/tcltk\n",
    "\n",
    "%cd /content\n",
    "!rm -rf ./dffram\n",
    "!mkdir -p ./dffram\n",
    "!curl -L https://github.com/AUCOHL/DFFRAM/tarball/a640412d65e2518858a6433dc53839a67b23572b | tar -xzC ./dffram --strip-components=1\n",
    "!python3 -m pip install -r /content/dffram/requirements.txt\n",
    "\n",
    "%cd /content/dffram\n",
    "%env NO_CHECK_INSTALL=1"
   ]
  },
  {
   "cell_type": "markdown",
   "metadata": {
    "id": "7JDT_oURah5w"
   },
   "source": [
    "\n",
    "\n",
    "---\n",
    "\n"
   ]
  },
  {
   "cell_type": "markdown",
   "metadata": {
    "id": "utNy5eoTamqs"
   },
   "source": [
    "### For a full list of different options 🤔  "
   ]
  },
  {
   "cell_type": "code",
   "execution_count": null,
   "metadata": {
    "colab": {
     "base_uri": "https://localhost:8080/"
    },
    "id": "NlK414aZbbBZ",
    "outputId": "6cb15cad-2b1a-404f-e983-aa6c0bcfb5dd"
   },
   "outputs": [],
   "source": [
    "!./dffram.py --help"
   ]
  },
  {
   "attachments": {},
   "cell_type": "markdown",
   "metadata": {},
   "source": [
    "### sky130A "
   ]
  },
  {
   "attachments": {},
   "cell_type": "markdown",
   "metadata": {
    "id": "uboP45qzhel3"
   },
   "source": [
    "#### 32x32 with one read-write port"
   ]
  },
  {
   "cell_type": "code",
   "execution_count": null,
   "metadata": {
    "colab": {
     "base_uri": "https://localhost:8080/"
    },
    "id": "4XY-HFzUmV4M",
    "outputId": "c4376e4f-a7d8-48bb-fe37-6b61343dd5b2"
   },
   "outputs": [],
   "source": [
    "%env PDK=sky130A\n",
    "!./dffram.py --using-local-openlane /content/conda-env/share/openlane -s 32x32"
   ]
  },
  {
   "attachments": {},
   "cell_type": "markdown",
   "metadata": {
    "id": "G8DDqTUshy9i"
   },
   "source": [
    "#### 32x32 with two read ports and one write port (a register file) "
   ]
  },
  {
   "cell_type": "code",
   "execution_count": null,
   "metadata": {
    "id": "cNiRHzHWgIjw"
   },
   "outputs": [],
   "source": [
    "%env PDK=sky130A\n",
    "!./dffram.py --using-local-openlane /content/conda-env/share/openlane -s 32x32 -b ::rf -v 2R1W"
   ]
  },
  {
   "attachments": {},
   "cell_type": "markdown",
   "metadata": {},
   "source": [
    "### gf180mcuC"
   ]
  },
  {
   "attachments": {},
   "cell_type": "markdown",
   "metadata": {},
   "source": [
    "#### 32x32 with one read-write port"
   ]
  },
  {
   "cell_type": "code",
   "execution_count": null,
   "metadata": {},
   "outputs": [],
   "source": [
    "%env PDK=gf180mcuC\n",
    "!./dffram.py --using-local-openlane /content/conda-env/share/openlane -s 32x32 -b gf180mcuC:gf180mcu_fd_sc_mcu7t5v0:ram"
   ]
  },
  {
   "attachments": {},
   "cell_type": "markdown",
   "metadata": {},
   "source": [
    "#### 32x32 with two read ports and one write port (a register file)"
   ]
  },
  {
   "cell_type": "code",
   "execution_count": null,
   "metadata": {},
   "outputs": [],
   "source": [
    "%env PDK=gf180mcuC\n",
    "!./dffram.py --using-local-openlane /content/conda-env/share/openlane -s 32x32 -b gf180mcuC:gf180mcu_fd_sc_mcu7t5v0:rf -v 2R1W"
   ]
  },
  {
   "cell_type": "markdown",
   "metadata": {
    "id": "i4NNuMeTc5OQ"
   },
   "source": [
    "### Aaand visualize it! 🎉"
   ]
  },
  {
   "cell_type": "code",
   "execution_count": null,
   "metadata": {
    "colab": {
     "base_uri": "https://localhost:8080/",
     "height": 1000
    },
    "id": "t9GQdQ_8Dtgr",
    "outputId": "fec172c4-0d6c-428b-c260-87b3486114d5"
   },
   "outputs": [],
   "source": [
    "import pathlib\n",
    "import gdstk\n",
    "from IPython.display import SVG\n",
    "\n",
    "gds = sorted(\n",
    "    pathlib.Path(\"/content/dffram/build/32x32_DEFAULT\").glob(\"**/gds/RAM32.gds\")\n",
    ")[0]\n",
    "library = gdstk.read_gds(gds)\n",
    "top_cells = library.top_level()\n",
    "top_cells[0].write_svg(\"RAM32.svg\")\n",
    "SVG(\"RAM32.svg\")"
   ]
  }
 ],
 "metadata": {
  "colab": {
   "collapsed_sections": [],
   "name": "dffram.ipynb",
   "provenance": []
  },
  "kernelspec": {
   "display_name": "Python 3.10.9 ('venv': venv)",
   "language": "python",
   "name": "python3"
  },
  "language_info": {
   "codemirror_mode": {
    "name": "ipython",
    "version": 3
   },
   "file_extension": ".py",
   "mimetype": "text/x-python",
   "name": "python",
   "nbconvert_exporter": "python",
   "pygments_lexer": "ipython3",
   "version": "3.10.9"
  },
  "vscode": {
   "interpreter": {
    "hash": "192516fa94e535c4f5cf27eeef389e5df5ced4f52a77092f31776bfbcc9cff03"
   }
  }
 },
 "nbformat": 4,
 "nbformat_minor": 0
}
