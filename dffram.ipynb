{
 "cells": [
  {
   "cell_type": "markdown",
   "metadata": {
    "id": "eukW5KG9kq7A"
   },
   "source": [
    "#  DFFRAM Compiler\n",
    "\n",
    "\n",
    " Standard Cell Library based Memory Compiler using DFF/Latch cells.\n",
    "\n",
    "\n",
    "\n"
   ]
  },
  {
   "cell_type": "markdown",
   "metadata": {
    "id": "hAbRRQMOYmTj"
   },
   "source": [
    "### Overview\n",
    "DFFRAM is based around two Python modules: the DFFRAM flow and the placeram utility.\n",
    "\n",
    "placeram is a custom placer using OpenROAD's Python interface. It places DFFRAM RAM/register file designs in a predetermined structure to avoid a lengthy and inefficient manual placement process for RAM. \n",
    "\n",
    "dffram.py is a relatively self-contained flow that uses placeram and OpenLane to place, route and harden RAM. "
   ]
  },
  {
   "cell_type": "markdown",
   "metadata": {
    "id": "p9rJi0GJevQL"
   },
   "source": [
    "### Supported Sizes \n",
    "\n",
    "RAM: \n",
    "- 32 words with byte write enable (1RW and 1RW1R).\n",
    "- 128 words with byte write enable (1RW and 1RW1R).\n",
    "- 256 words with byte write enable (1RW and 1RW1R).\n",
    "- 512 words with byte write enable (1RW and 1RW1R).\n",
    "- 1024 words with byte write enable (1RW and 1RW1R).\n",
    "- 2048 words with byte write enable (1RW and 1RW1R).\n",
    "\n",
    "\n",
    "RF: \n",
    "\n",
    "- 32 x 32-bit words (2R1W)"
   ]
  },
  {
   "cell_type": "markdown",
   "metadata": {
    "id": "weyU60-UZRw1"
   },
   "source": [
    "\n",
    "\n",
    "---\n",
    "\n"
   ]
  },
  {
   "cell_type": "markdown",
   "metadata": {
    "id": "xiMjKkZuZWGb"
   },
   "source": [
    "### Installing Conda Package Manager for Google Colab"
   ]
  },
  {
   "cell_type": "code",
   "execution_count": null,
   "metadata": {
    "colab": {
     "base_uri": "https://localhost:8080/"
    },
    "id": "UD8VRDFFi6eb",
    "outputId": "27b443c5-5e83-42e8-a116-901d9b768672"
   },
   "outputs": [],
   "source": [
    "!pip install -q condacolab\n",
    "import condacolab\n",
    "\n",
    "condacolab.install_from_url(\n",
    "    \"https://repo.anaconda.com/miniconda/Miniconda3-py37_4.11.0-Linux-x86_64.sh\"\n",
    ")\n",
    "\n",
    "condacolab.check()\n",
    "!sed -i -e /cudatoolkit/d /usr/local/conda-meta/pinned"
   ]
  },
  {
   "cell_type": "markdown",
   "metadata": {
    "id": "Jo6qIrgwmIj5"
   },
   "source": [
    "The litex-hub conda repository maintains a collection of EDA tools- including those needed to support OpenLane and DFFRAM."
   ]
  },
  {
   "cell_type": "code",
   "execution_count": null,
   "metadata": {
    "colab": {
     "base_uri": "https://localhost:8080/"
    },
    "id": "oafmcNo7jGRU",
    "outputId": "6bfe1fcd-6f47-4c5f-e048-4566faba703a"
   },
   "outputs": [],
   "source": [
    "!conda install -y -c litex-hub -c conda-forge openroad=2.0_4703_g6a7ef2a6d  magic netgen yosys gdstk"
   ]
  },
  {
   "cell_type": "markdown",
   "metadata": {
    "id": "FuqN8wIVX3X5"
   },
   "source": [
    "### Cloning OpenLane and DFFRAM and Installing the required dependencies:  🔄\n",
    "\n",
    "(We're also setting some environment variables that make OpenLane and DFFRAM play nicer with conda.)"
   ]
  },
  {
   "cell_type": "code",
   "execution_count": null,
   "metadata": {
    "colab": {
     "base_uri": "https://localhost:8080/"
    },
    "id": "bVYWVZkTjKb_",
    "outputId": "09735eff-c07e-45fe-c221-93bb2e9fe35f"
   },
   "outputs": [],
   "source": [
    "!apt-get update && apt-get install -yq tcllib\n",
    "%env TCLLIBPATH=/usr/share/tcltk\n",
    "\n",
    "%cd /content\n",
    "!rm -rf ./openlane\n",
    "!mkdir -p ./openlane\n",
    "!curl -L https://github.com/The-OpenROAD-Project/OpenLane/tarball/57f3f21d6e1d0403a88d7a7973f7447597aae160 | tar -xzC ./openlane --strip-components=1\n",
    "!python3 -m pip install -r /content/openlane/requirements.txt\n",
    "\n",
    "%cd /content\n",
    "!rm -rf ./dffram\n",
    "!mkdir -p ./dffram\n",
    "!curl -L https://github.com/AUCOHL/DFFRAM/tarball/5e7e9674a1373ddb65445b4985488adc154efcd9 | tar -xzC ./dffram --strip-components=1\n",
    "!python3 -m pip install -r /content/dffram/requirements.txt\n",
    "\n",
    "\n",
    "%cd /content/dffram\n",
    "!volare enable --pdk-root /content/dffram/pdk --pdk sky130 44a43c23c81b45b8e774ae7a84899a5a778b6b0b\n",
    "\n",
    "%env PDK=sky130A\n",
    "%env QUIT_ON_MISMATCHES=0\n",
    "%env NO_CHECK_INSTALL=1"
   ]
  },
  {
   "cell_type": "markdown",
   "metadata": {
    "id": "7JDT_oURah5w"
   },
   "source": [
    "\n",
    "\n",
    "---\n",
    "\n"
   ]
  },
  {
   "cell_type": "markdown",
   "metadata": {
    "id": "utNy5eoTamqs"
   },
   "source": [
    "### For a full list of different options 🤔  "
   ]
  },
  {
   "cell_type": "code",
   "execution_count": null,
   "metadata": {
    "colab": {
     "base_uri": "https://localhost:8080/"
    },
    "id": "NlK414aZbbBZ",
    "outputId": "6cb15cad-2b1a-404f-e983-aa6c0bcfb5dd"
   },
   "outputs": [],
   "source": [
    "!./dffram.py --help"
   ]
  },
  {
   "cell_type": "markdown",
   "metadata": {
    "id": "uboP45qzhel3"
   },
   "source": [
    "### 32x32 with one read-write port and one read-only port 🚀 "
   ]
  },
  {
   "cell_type": "code",
   "execution_count": null,
   "metadata": {
    "colab": {
     "base_uri": "https://localhost:8080/"
    },
    "id": "4XY-HFzUmV4M",
    "outputId": "c4376e4f-a7d8-48bb-fe37-6b61343dd5b2"
   },
   "outputs": [],
   "source": [
    "!./dffram.py --using-local-openlane /content/openlane -s 32x32"
   ]
  },
  {
   "cell_type": "markdown",
   "metadata": {
    "id": "G8DDqTUshy9i"
   },
   "source": [
    "### 32x32 with two read ports and one write port (a register file)"
   ]
  },
  {
   "cell_type": "code",
   "execution_count": null,
   "metadata": {
    "id": "cNiRHzHWgIjw"
   },
   "outputs": [],
   "source": [
    "!./dffram.py --using-local-openlane /content/openlane -s 32x32 -b ::rf -v 2R1W"
   ]
  },
  {
   "cell_type": "markdown",
   "metadata": {
    "id": "i4NNuMeTc5OQ"
   },
   "source": [
    "### Aaand visualize it! 🎉"
   ]
  },
  {
   "cell_type": "code",
   "execution_count": null,
   "metadata": {
    "colab": {
     "base_uri": "https://localhost:8080/",
     "height": 1000
    },
    "id": "t9GQdQ_8Dtgr",
    "outputId": "fec172c4-0d6c-428b-c260-87b3486114d5"
   },
   "outputs": [],
   "source": [
    "import pathlib\n",
    "import gdstk\n",
    "from IPython.display import SVG\n",
    "\n",
    "gds = sorted(\n",
    "    pathlib.Path(\"/content/DFFRAM/build/32x32_DEFAULT\").glob(\"*/gds/RAM32.gds\")\n",
    ")[0]\n",
    "library = gdstk.read_gds(gds)\n",
    "top_cells = library.top_level()\n",
    "top_cells[0].write_svg(\"RAM32.svg\")\n",
    "SVG(\"RAM32.svg\")"
   ]
  }
 ],
 "metadata": {
  "colab": {
   "collapsed_sections": [],
   "name": "dffram.ipynb",
   "provenance": []
  },
  "kernelspec": {
   "display_name": "Python 3.10.5 64-bit",
   "language": "python",
   "name": "python3"
  },
  "language_info": {
   "codemirror_mode": {
    "name": "ipython",
    "version": 3
   },
   "file_extension": ".py",
   "mimetype": "text/x-python",
   "name": "python",
   "nbconvert_exporter": "python",
   "pygments_lexer": "ipython3",
   "version": "3.10.5"
  },
  "vscode": {
   "interpreter": {
    "hash": "e7370f93d1d0cde622a1f8e1c04877d8463912d04d973331ad4851f04de6915a"
   }
  }
 },
 "nbformat": 4,
 "nbformat_minor": 0
}
